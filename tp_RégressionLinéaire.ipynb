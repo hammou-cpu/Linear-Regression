{
 "cells": [
  {
   "cell_type": "markdown",
   "metadata": {},
   "source": [
    "---\n",
    "\n",
    "<div class=\"alert alert-success\">\n",
    "\n",
    "<center><b>University of Ghardaia</b></center>\n",
    "    \n",
    "<center><i>Faculty of Science and Technology - Department of Mathematics and Computer Science – Master 1 SIEC - 2023/2024</i>\n",
    "</center></div>\n",
    "\n",
    "------\n",
    "\n",
    "<br><br>\n",
    "\n",
    "<center>\n",
    "<span style='font-weight:bold;font-size:27px;'><span style='color:#5D00FF;'>Practical work 1 - ML : Linear regression </span>\n",
    "    </span>\n",
    "    </center>\n",
    "<br>\n",
    "\n",
    "\n",
    "The goal of this work is to learn how to use the gradient descent algorithm on a dataset to create a linear regression model.\n",
    "\n",
    "In this practical section, we will use Python to create a single-variable linear regression model.\n",
    "The data set we're going to use contains the height and weight of 200 people.\n",
    "___"
   ]
  },
  {
   "cell_type": "code",
   "execution_count": 1,
   "metadata": {},
   "outputs": [],
   "source": [
    "# Importing the required libraries\n",
    " \n",
    "%matplotlib inline\n",
    "import numpy as np\n",
    "import pandas as pd\n",
    "import matplotlib.pyplot as plt"
   ]
  },
  {
   "cell_type": "code",
   "execution_count": 2,
   "metadata": {},
   "outputs": [
    {
     "name": "stdout",
     "output_type": "stream",
     "text": [
      "(200, 3)\n"
     ]
    },
    {
     "data": {
      "text/html": [
       "<div>\n",
       "<style scoped>\n",
       "    .dataframe tbody tr th:only-of-type {\n",
       "        vertical-align: middle;\n",
       "    }\n",
       "\n",
       "    .dataframe tbody tr th {\n",
       "        vertical-align: top;\n",
       "    }\n",
       "\n",
       "    .dataframe thead th {\n",
       "        text-align: right;\n",
       "    }\n",
       "</style>\n",
       "<table border=\"1\" class=\"dataframe\">\n",
       "  <thead>\n",
       "    <tr style=\"text-align: right;\">\n",
       "      <th></th>\n",
       "      <th>Index</th>\n",
       "      <th>Height(Inches)</th>\n",
       "      <th>Weight(Pounds)</th>\n",
       "    </tr>\n",
       "  </thead>\n",
       "  <tbody>\n",
       "    <tr>\n",
       "      <th>0</th>\n",
       "      <td>1</td>\n",
       "      <td>65.78</td>\n",
       "      <td>112.99</td>\n",
       "    </tr>\n",
       "    <tr>\n",
       "      <th>1</th>\n",
       "      <td>2</td>\n",
       "      <td>71.52</td>\n",
       "      <td>136.49</td>\n",
       "    </tr>\n",
       "    <tr>\n",
       "      <th>2</th>\n",
       "      <td>3</td>\n",
       "      <td>69.40</td>\n",
       "      <td>153.03</td>\n",
       "    </tr>\n",
       "    <tr>\n",
       "      <th>3</th>\n",
       "      <td>4</td>\n",
       "      <td>68.22</td>\n",
       "      <td>142.34</td>\n",
       "    </tr>\n",
       "    <tr>\n",
       "      <th>4</th>\n",
       "      <td>5</td>\n",
       "      <td>67.79</td>\n",
       "      <td>144.30</td>\n",
       "    </tr>\n",
       "  </tbody>\n",
       "</table>\n",
       "</div>"
      ],
      "text/plain": [
       "   Index  Height(Inches)  Weight(Pounds)\n",
       "0      1           65.78          112.99\n",
       "1      2           71.52          136.49\n",
       "2      3           69.40          153.03\n",
       "3      4           68.22          142.34\n",
       "4      5           67.79          144.30"
      ]
     },
     "execution_count": 2,
     "metadata": {},
     "output_type": "execute_result"
    }
   ],
   "source": [
    "# Reading data\n",
    "data = pd.read_csv('hw_200.csv')\n",
    "print(data.shape)\n",
    "data.head()\n"
   ]
  },
  {
   "cell_type": "code",
   "execution_count": 3,
   "metadata": {},
   "outputs": [],
   "source": [
    "# Get X and Y\n",
    "X = data['Height(Inches)'].values\n",
    "Y = data['Weight(Pounds)'].values"
   ]
  },
  {
   "cell_type": "code",
   "execution_count": 7,
   "metadata": {},
   "outputs": [
    {
     "data": {
      "text/plain": [
       "Text(0, 0.5, 'The weight (Pounds)')"
      ]
     },
     "execution_count": 7,
     "metadata": {},
     "output_type": "execute_result"
    },
    {
     "data": {
      "image/png": "[encoded data removed]",
      "text/plain": [
       "<Figure size 432x288 with 1 Axes>"
      ]
     },
     "metadata": {
      "needs_background": "light"
     },
     "output_type": "display_data"
    }
   ],
   "source": [
    "# Visualizing data \n",
    "plt.scatter(X,Y, c='red')\n",
    "plt.xlabel('The Height (Inches)')\n",
    "plt.ylabel('The weight (Pounds)')"
   ]
  },
  {
   "cell_type": "markdown",
   "metadata": {},
   "source": [
    "\n",
    "### Let's start with the least squares method :\n",
    "To find the parameters $b_0$ and $b_1$ of the equation $f(x) = b_0 + b_1x $, We need first to calculate the average of  $\\bar{X}$ and $\\bar{Y}$.\n",
    "\n"
   ]
  },
  {
   "cell_type": "code",
   "execution_count": 8,
   "metadata": {},
   "outputs": [],
   "source": [
    "# Average of X and Y\n",
    "average_x = np.mean(X)\n",
    "average_y = np.mean(Y)"
   ]
  },
  {
   "cell_type": "markdown",
   "metadata": {},
   "source": [
    "To compute $b_0$ and $b_1$\n",
    "\n",
    "$b_1= \\frac{\\sum(X-\\bar{X})(Y-\\bar{Y})}{\\sum(X-\\bar{X})^2} $ , $b_0=\\bar{Y}-b_1\\bar{X} \\;\\;\\;\\;\\;\\;\\;$    **(1)**\n"
   ]
  },
  {
   "cell_type": "code",
   "execution_count": 9,
   "metadata": {},
   "outputs": [
    {
     "name": "stdout",
     "output_type": "stream",
     "text": [
      "-106.02770644878129 3.4326761292716284\n",
      "b0 = -106.03\n",
      "b1 = 3.43\n",
      "\n",
      "The linear regression model : f(x) = -106.03 + 3.43 X\n"
     ]
    }
   ],
   "source": [
    " \n",
    "# Total number of examples\n",
    "n = len(X)\n",
    " \n",
    "# Formula (1) is used to calculate b0 and b1\n",
    "b1= np.sum((X-average_x)*(Y-average_y)) / np.sum((X-average_x)**2)\n",
    "b0= average_y - b1 * average_x\n",
    "\n",
    "print(b0, b1)\n",
    "print('b0 = {:.2f}'.format(b0))\n",
    "print('b1 = {:.2f}'.format(b1))\n",
    "\n",
    "\n",
    "# Show model equation depending on coefficients b0, b1\n",
    "print('\\nThe linear regression model : ',end='')\n",
    "print('f(x) = {:.2f} +'.format(b0),'{:.2f} X'.format(b1) )"
   ]
  },
  {
   "cell_type": "markdown",
   "metadata": {},
   "source": [
    "\n",
    "We'll now plot the scatter plot with the linear regression line. \n"
   ]
  },
  {
   "cell_type": "code",
   "execution_count": 10,
   "metadata": {},
   "outputs": [
    {
     "data": {
      "text/plain": [
       "Text(0, 0.5, 'The weight (Pounds)')"
      ]
     },
     "execution_count": 10,
     "metadata": {},
     "output_type": "execute_result"
    },
    {
     "data": {
      "image/png": "[encoded data removed]",
      "text/plain": [
       "<Figure size 432x288 with 1 Axes>"
      ]
     },
     "metadata": {
      "needs_background": "light"
     },
     "output_type": "display_data"
    }
   ],
   "source": [
    "# A vector of predictions is created by the function f(x) \n",
    "F_x = b0 + b1 * X\n",
    "\n",
    "# Visualizing results\n",
    "plt.scatter(X, Y, c='orange')\n",
    "plt.plot(X, F_x, c='blue')\n",
    "plt.xlabel('The Height (Inches)')\n",
    "plt.ylabel('The weight (Pounds)')"
   ]
  },
  {
   "cell_type": "markdown",
   "metadata": {},
   "source": [
    "We can now calculate the accuracy of our model by computing *the correlation coefficient $r$* and *the coefficient of determination* $R^2$ between our model $f(x)$ and the $Y$ values of the dataset."
   ]
  },
  {
   "cell_type": "code",
   "execution_count": 11,
   "metadata": {},
   "outputs": [
    {
     "name": "stdout",
     "output_type": "stream",
     "text": [
      "The correlation coefficient r =  0.5568647346122992\n",
      "Coefficient of determination R2 =  0.31009833265482645\n"
     ]
    }
   ],
   "source": [
    "# Calculation of the correlation coefficient \n",
    "import math\n",
    "r = sum((X-average_x)*(Y-average_y))/(math.sqrt(sum((X-average_x)**2))*math.sqrt(sum((Y-average_y)**2)))\n",
    "\n",
    "print(\"The correlation coefficient r = \",r)\n",
    "\n",
    "# Calculation of the coefficient of determination R2\n",
    "R2 = 1- np.sum((Y-F_x)**2)/np.sum((Y-average_y)**2)\n",
    "print(\"Coefficient of determination R2 = \",R2)"
   ]
  },
  {
   "cell_type": "markdown",
   "metadata": {},
   "source": [
    "### Implementing linear regression with *scikit learn*\n",
    "\n",
    "Now we'll see how to implement the same model using a machine learning library called **scikit-learn**.\n",
    "\n",
    "To develop and train a model with **Sklearn**, all we have to do is define a \" ***model*** \" variable from the *SGDRegressor* generator, entering the *number of iterations* to be performed by the *gradient descent* and the *learning rate*.\n",
    "\n",
    "Once the model has been defined, we use the **fit** function to train it."
   ]
  },
  {
   "cell_type": "code",
   "execution_count": 24,
   "metadata": {},
   "outputs": [
    {
     "data": {
      "text/plain": [
       "SGDRegressor(eta0=0.001, max_iter=100)"
      ]
     },
     "execution_count": 24,
     "metadata": {},
     "output_type": "execute_result"
    }
   ],
   "source": [
    "# library import\n",
    "from sklearn.linear_model import SGDRegressor\n",
    "\n",
    "\n",
    "# Set the number of iterations and the learning rate\n",
    "nbr_iter = 100\n",
    "L_rate = 0.001\n",
    "\n",
    "# We give X a new shape without any change to its data.  \n",
    "X_=X.reshape((n, 1))\n",
    "\n",
    "# Model building with the initialization of the gradient descent algorithm (number of iterations and learning rate)\n",
    "model = SGDRegressor( max_iter=nbr_iter, eta0=L_rate)\n",
    "\n",
    "# model training\n",
    "model.fit(X_,Y)\n"
   ]
  },
  {
   "cell_type": "markdown",
   "metadata": {},
   "source": [
    "We can measure the accuracy of our model using the *score* function, which calculates the **coefficient of determination** between the model (Y') and the Y values in the dataset."
   ]
  },
  {
   "cell_type": "code",
   "execution_count": 25,
   "metadata": {},
   "outputs": [
    {
     "name": "stdout",
     "output_type": "stream",
     "text": [
      "The coefficient of determination R2 = -0.03718297213582433\n",
      "[-349.71985476] [7.03283962]\n"
     ]
    },
    {
     "data": {
      "text/plain": [
       "Text(0, 0.5, 'The weight (Pounds)')"
      ]
     },
     "execution_count": 25,
     "metadata": {},
     "output_type": "execute_result"
    },
    {
     "data": {
      "image/png": "[encoded data removed]",
      "text/plain": [
       "<Figure size 720x432 with 1 Axes>"
      ]
     },
     "metadata": {
      "needs_background": "light"
     },
     "output_type": "display_data"
    }
   ],
   "source": [
    "# displaying the R2 coefficient\n",
    "print('The coefficient of determination R2 =', model.score(X_, Y))\n",
    "\n",
    "# model coefficients\n",
    "b_0 = model.intercept_\n",
    "b_1 = model.coef_\n",
    "print(b_0, b_1)\n",
    "\n",
    "plt.rcParams[\"figure.figsize\"] = (10,6)\n",
    "\n",
    "# displaying the result graph\n",
    "plt.scatter(X_, Y)\n",
    "plt.plot(X_, model.predict(X_), c='red')\n",
    "plt.xlabel('The Height (Inches)')\n",
    "plt.ylabel('The weight (Pounds)')\n",
    "\n"
   ]
  },
  {
   "cell_type": "markdown",
   "metadata": {},
   "source": [
    "We can **predict** the weight of a person with a height of 73 inches (1.85 meters):"
   ]
  },
  {
   "cell_type": "code",
   "execution_count": 28,
   "metadata": {},
   "outputs": [
    {
     "name": "stdout",
     "output_type": "stream",
     "text": [
      "The weight of a person who is 73 inches tall is :  [163.67743726]\n"
     ]
    }
   ],
   "source": [
    "print('The weight of a person who is 73 inches tall is : ',model.predict([[73]]))"
   ]
  },
  {
   "cell_type": "markdown",
   "metadata": {},
   "source": [
    "---\n",
    "## Exercise :\n"
   ]
  },
  {
   "cell_type": "markdown",
   "metadata": {},
   "source": [
    "\n",
    "\n",
    "Create a linear regression model in a new Notebook in Jupyter. The file **\"linreg_data.csv \"** contains data of dimension (250, 2), you'll use it as a *Dataset* for training. \n",
    "1. Use the Machine Learning tool **scikit learn** to develop and train the model, as we've learned previously.\n",
    "2. What is the optimal *Learning Rate* and how many iterations does the **Gradient Descent** need to converge?\n",
    "3. Display the Scatter Plot and the Regression Line.\n",
    "4. What is the best accuracy value of the model. \n",
    "5. Display coefficients of linear regression equation.\n",
    "6. Compute the prediction of the value (6.5).\n",
    "7. Recalculate the coefficients of the model equation using the least squares method. Use this time the **For** loop to find  $b_0$ and $b_1$. \n",
    "8. Display on a single graph: the scatter plot, the model learned by **Gradient Descent** and the model obtained by the least squares method, in different colors. What do you notice?  \n",
    "9. Implement the gradient descent algorithm in a function, then use this function to calculate the model parameters as well as the cost function.\n",
    "10. Display the scatterplot and regression line.\n",
    "11. Find the correlation coefficient.\n",
    "12. Compare the parameters ($b_0$, $b_1$) obtained by: the **scikit-learn** library, the least squares method and the implemented gradient descent function.\n",
    "13. After having implemented **Batch gradient descent**, write two other functions:\n",
    "    * One that implements stochastic gradient descent (**SGD**) \n",
    "    * and a second implements stochastic gradient descent in mini-batches (**mini-batch SGD**).\n",
    " <br><br>\n",
    "14. Perform a vector implementation of **batch gradient descent**.\n",
    " <br><br><br>\n",
    "\n",
    " \n",
    "<font color='DarkCyan'>\n",
    "    NOTE. The file <b><i>\"linreg_data.csv\"</i></b> is provided with this notebook. It contains data of dimension (250, 2), which you will use as a training dataset.\n",
    "</font>"
   ]
  },
  {
   "cell_type": "code",
   "execution_count": null,
   "metadata": {},
   "outputs": [],
   "source": []
  }
 ],
 "metadata": {
  "kernelspec": {
   "display_name": "Python 3",
   "language": "python",
   "name": "python3"
  },
  "language_info": {
   "codemirror_mode": {
    "name": "ipython",
    "version": 3
   },
   "file_extension": ".py",
   "mimetype": "text/x-python",
   "name": "python",
   "nbconvert_exporter": "python",
   "pygments_lexer": "ipython3",
   "version": "3.8.8"
  },
  "vscode": {
   "interpreter": {
    "hash": "65a440aeac0c89e2af7569e0aa53b64434c4b69eb6285e2b0d174d9bca190d54"
   }
  }
 },
 "nbformat": 4,
 "nbformat_minor": 2
}
